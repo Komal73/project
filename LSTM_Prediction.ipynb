{
  "nbformat": 4,
  "nbformat_minor": 0,
  "metadata": {
    "colab": {
      "provenance": [],
      "authorship_tag": "ABX9TyPmnXwPcT8gdCvYijpEdOmO",
      "include_colab_link": true
    },
    "kernelspec": {
      "name": "python3",
      "display_name": "Python 3"
    },
    "language_info": {
      "name": "python"
    }
  },
  "cells": [
    {
      "cell_type": "markdown",
      "metadata": {
        "id": "view-in-github",
        "colab_type": "text"
      },
      "source": [
        "<a href=\"https://colab.research.google.com/github/Komal73/stock-price-prediction-project/blob/main/LSTM_Prediction.ipynb\" target=\"_parent\"><img src=\"https://colab.research.google.com/assets/colab-badge.svg\" alt=\"Open In Colab\"/></a>"
      ]
    },
    {
      "cell_type": "code",
      "execution_count": 1,
      "metadata": {
        "id": "b-1g8qzklkqM"
      },
      "outputs": [],
      "source": [
        "import pandas_datareader as pdr\n"
      ]
    },
    {
      "cell_type": "code",
      "source": [
        "import pandas as pd\n",
        "import requests\n",
        "from google.colab import files"
      ],
      "metadata": {
        "id": "-Yw3DzWMn4z1"
      },
      "execution_count": 2,
      "outputs": []
    },
    {
      "cell_type": "code",
      "source": [
        "import pandas_datareader as pdr\n",
        "#import dataset\n",
        "df=pd.read_csv('AAPL.csv')"
      ],
      "metadata": {
        "id": "2cG8KPiTpg3s"
      },
      "execution_count": 6,
      "outputs": []
    },
    {
      "cell_type": "code",
      "source": [
        "#start\n",
        "df.head()"
      ],
      "metadata": {
        "colab": {
          "base_uri": "https://localhost:8080/",
          "height": 206
        },
        "id": "FGDYi2hNr6VO",
        "outputId": "4eaf61a2-54e0-4b12-ea61-105452630dc6"
      },
      "execution_count": 8,
      "outputs": [
        {
          "output_type": "execute_result",
          "data": {
            "text/plain": [
              "   Unnamed: 0 symbol                       date    close     high     low  \\\n",
              "0           0   AAPL  2015-05-27 00:00:00+00:00  132.045  132.260  130.05   \n",
              "1           1   AAPL  2015-05-28 00:00:00+00:00  131.780  131.950  131.10   \n",
              "2           2   AAPL  2015-05-29 00:00:00+00:00  130.280  131.450  129.90   \n",
              "3           3   AAPL  2015-06-01 00:00:00+00:00  130.535  131.390  130.05   \n",
              "4           4   AAPL  2015-06-02 00:00:00+00:00  129.960  130.655  129.32   \n",
              "\n",
              "     open    volume    adjClose     adjHigh      adjLow     adjOpen  \\\n",
              "0  130.34  45833246  121.682558  121.880685  119.844118  120.111360   \n",
              "1  131.86  30733309  121.438354  121.595013  120.811718  121.512076   \n",
              "2  131.23  50884452  120.056069  121.134251  119.705890  120.931516   \n",
              "3  131.20  32112797  120.291057  121.078960  119.844118  120.903870   \n",
              "4  129.86  33667627  119.761181  120.401640  119.171406  119.669029   \n",
              "\n",
              "   adjVolume  divCash  splitFactor  \n",
              "0   45833246      0.0          1.0  \n",
              "1   30733309      0.0          1.0  \n",
              "2   50884452      0.0          1.0  \n",
              "3   32112797      0.0          1.0  \n",
              "4   33667627      0.0          1.0  "
            ],
            "text/html": [
              "\n",
              "\n",
              "  <div id=\"df-2151e38c-346e-4378-a75b-deb92c18c73b\">\n",
              "    <div class=\"colab-df-container\">\n",
              "      <div>\n",
              "<style scoped>\n",
              "    .dataframe tbody tr th:only-of-type {\n",
              "        vertical-align: middle;\n",
              "    }\n",
              "\n",
              "    .dataframe tbody tr th {\n",
              "        vertical-align: top;\n",
              "    }\n",
              "\n",
              "    .dataframe thead th {\n",
              "        text-align: right;\n",
              "    }\n",
              "</style>\n",
              "<table border=\"1\" class=\"dataframe\">\n",
              "  <thead>\n",
              "    <tr style=\"text-align: right;\">\n",
              "      <th></th>\n",
              "      <th>Unnamed: 0</th>\n",
              "      <th>symbol</th>\n",
              "      <th>date</th>\n",
              "      <th>close</th>\n",
              "      <th>high</th>\n",
              "      <th>low</th>\n",
              "      <th>open</th>\n",
              "      <th>volume</th>\n",
              "      <th>adjClose</th>\n",
              "      <th>adjHigh</th>\n",
              "      <th>adjLow</th>\n",
              "      <th>adjOpen</th>\n",
              "      <th>adjVolume</th>\n",
              "      <th>divCash</th>\n",
              "      <th>splitFactor</th>\n",
              "    </tr>\n",
              "  </thead>\n",
              "  <tbody>\n",
              "    <tr>\n",
              "      <th>0</th>\n",
              "      <td>0</td>\n",
              "      <td>AAPL</td>\n",
              "      <td>2015-05-27 00:00:00+00:00</td>\n",
              "      <td>132.045</td>\n",
              "      <td>132.260</td>\n",
              "      <td>130.05</td>\n",
              "      <td>130.34</td>\n",
              "      <td>45833246</td>\n",
              "      <td>121.682558</td>\n",
              "      <td>121.880685</td>\n",
              "      <td>119.844118</td>\n",
              "      <td>120.111360</td>\n",
              "      <td>45833246</td>\n",
              "      <td>0.0</td>\n",
              "      <td>1.0</td>\n",
              "    </tr>\n",
              "    <tr>\n",
              "      <th>1</th>\n",
              "      <td>1</td>\n",
              "      <td>AAPL</td>\n",
              "      <td>2015-05-28 00:00:00+00:00</td>\n",
              "      <td>131.780</td>\n",
              "      <td>131.950</td>\n",
              "      <td>131.10</td>\n",
              "      <td>131.86</td>\n",
              "      <td>30733309</td>\n",
              "      <td>121.438354</td>\n",
              "      <td>121.595013</td>\n",
              "      <td>120.811718</td>\n",
              "      <td>121.512076</td>\n",
              "      <td>30733309</td>\n",
              "      <td>0.0</td>\n",
              "      <td>1.0</td>\n",
              "    </tr>\n",
              "    <tr>\n",
              "      <th>2</th>\n",
              "      <td>2</td>\n",
              "      <td>AAPL</td>\n",
              "      <td>2015-05-29 00:00:00+00:00</td>\n",
              "      <td>130.280</td>\n",
              "      <td>131.450</td>\n",
              "      <td>129.90</td>\n",
              "      <td>131.23</td>\n",
              "      <td>50884452</td>\n",
              "      <td>120.056069</td>\n",
              "      <td>121.134251</td>\n",
              "      <td>119.705890</td>\n",
              "      <td>120.931516</td>\n",
              "      <td>50884452</td>\n",
              "      <td>0.0</td>\n",
              "      <td>1.0</td>\n",
              "    </tr>\n",
              "    <tr>\n",
              "      <th>3</th>\n",
              "      <td>3</td>\n",
              "      <td>AAPL</td>\n",
              "      <td>2015-06-01 00:00:00+00:00</td>\n",
              "      <td>130.535</td>\n",
              "      <td>131.390</td>\n",
              "      <td>130.05</td>\n",
              "      <td>131.20</td>\n",
              "      <td>32112797</td>\n",
              "      <td>120.291057</td>\n",
              "      <td>121.078960</td>\n",
              "      <td>119.844118</td>\n",
              "      <td>120.903870</td>\n",
              "      <td>32112797</td>\n",
              "      <td>0.0</td>\n",
              "      <td>1.0</td>\n",
              "    </tr>\n",
              "    <tr>\n",
              "      <th>4</th>\n",
              "      <td>4</td>\n",
              "      <td>AAPL</td>\n",
              "      <td>2015-06-02 00:00:00+00:00</td>\n",
              "      <td>129.960</td>\n",
              "      <td>130.655</td>\n",
              "      <td>129.32</td>\n",
              "      <td>129.86</td>\n",
              "      <td>33667627</td>\n",
              "      <td>119.761181</td>\n",
              "      <td>120.401640</td>\n",
              "      <td>119.171406</td>\n",
              "      <td>119.669029</td>\n",
              "      <td>33667627</td>\n",
              "      <td>0.0</td>\n",
              "      <td>1.0</td>\n",
              "    </tr>\n",
              "  </tbody>\n",
              "</table>\n",
              "</div>\n",
              "      <button class=\"colab-df-convert\" onclick=\"convertToInteractive('df-2151e38c-346e-4378-a75b-deb92c18c73b')\"\n",
              "              title=\"Convert this dataframe to an interactive table.\"\n",
              "              style=\"display:none;\">\n",
              "\n",
              "  <svg xmlns=\"http://www.w3.org/2000/svg\" height=\"24px\"viewBox=\"0 0 24 24\"\n",
              "       width=\"24px\">\n",
              "    <path d=\"M0 0h24v24H0V0z\" fill=\"none\"/>\n",
              "    <path d=\"M18.56 5.44l.94 2.06.94-2.06 2.06-.94-2.06-.94-.94-2.06-.94 2.06-2.06.94zm-11 1L8.5 8.5l.94-2.06 2.06-.94-2.06-.94L8.5 2.5l-.94 2.06-2.06.94zm10 10l.94 2.06.94-2.06 2.06-.94-2.06-.94-.94-2.06-.94 2.06-2.06.94z\"/><path d=\"M17.41 7.96l-1.37-1.37c-.4-.4-.92-.59-1.43-.59-.52 0-1.04.2-1.43.59L10.3 9.45l-7.72 7.72c-.78.78-.78 2.05 0 2.83L4 21.41c.39.39.9.59 1.41.59.51 0 1.02-.2 1.41-.59l7.78-7.78 2.81-2.81c.8-.78.8-2.07 0-2.86zM5.41 20L4 18.59l7.72-7.72 1.47 1.35L5.41 20z\"/>\n",
              "  </svg>\n",
              "      </button>\n",
              "\n",
              "\n",
              "\n",
              "    <div id=\"df-700bbc7a-dd2b-424c-86cc-1616b4e2b105\">\n",
              "      <button class=\"colab-df-quickchart\" onclick=\"quickchart('df-700bbc7a-dd2b-424c-86cc-1616b4e2b105')\"\n",
              "              title=\"Suggest charts.\"\n",
              "              style=\"display:none;\">\n",
              "\n",
              "<svg xmlns=\"http://www.w3.org/2000/svg\" height=\"24px\"viewBox=\"0 0 24 24\"\n",
              "     width=\"24px\">\n",
              "    <g>\n",
              "        <path d=\"M19 3H5c-1.1 0-2 .9-2 2v14c0 1.1.9 2 2 2h14c1.1 0 2-.9 2-2V5c0-1.1-.9-2-2-2zM9 17H7v-7h2v7zm4 0h-2V7h2v10zm4 0h-2v-4h2v4z\"/>\n",
              "    </g>\n",
              "</svg>\n",
              "      </button>\n",
              "    </div>\n",
              "\n",
              "<style>\n",
              "  .colab-df-quickchart {\n",
              "    background-color: #E8F0FE;\n",
              "    border: none;\n",
              "    border-radius: 50%;\n",
              "    cursor: pointer;\n",
              "    display: none;\n",
              "    fill: #1967D2;\n",
              "    height: 32px;\n",
              "    padding: 0 0 0 0;\n",
              "    width: 32px;\n",
              "  }\n",
              "\n",
              "  .colab-df-quickchart:hover {\n",
              "    background-color: #E2EBFA;\n",
              "    box-shadow: 0px 1px 2px rgba(60, 64, 67, 0.3), 0px 1px 3px 1px rgba(60, 64, 67, 0.15);\n",
              "    fill: #174EA6;\n",
              "  }\n",
              "\n",
              "  [theme=dark] .colab-df-quickchart {\n",
              "    background-color: #3B4455;\n",
              "    fill: #D2E3FC;\n",
              "  }\n",
              "\n",
              "  [theme=dark] .colab-df-quickchart:hover {\n",
              "    background-color: #434B5C;\n",
              "    box-shadow: 0px 1px 3px 1px rgba(0, 0, 0, 0.15);\n",
              "    filter: drop-shadow(0px 1px 2px rgba(0, 0, 0, 0.3));\n",
              "    fill: #FFFFFF;\n",
              "  }\n",
              "</style>\n",
              "\n",
              "    <script>\n",
              "      async function quickchart(key) {\n",
              "        const containerElement = document.querySelector('#' + key);\n",
              "        const charts = await google.colab.kernel.invokeFunction(\n",
              "            'suggestCharts', [key], {});\n",
              "      }\n",
              "    </script>\n",
              "\n",
              "      <script>\n",
              "\n",
              "function displayQuickchartButton(domScope) {\n",
              "  let quickchartButtonEl =\n",
              "    domScope.querySelector('#df-700bbc7a-dd2b-424c-86cc-1616b4e2b105 button.colab-df-quickchart');\n",
              "  quickchartButtonEl.style.display =\n",
              "    google.colab.kernel.accessAllowed ? 'block' : 'none';\n",
              "}\n",
              "\n",
              "        displayQuickchartButton(document);\n",
              "      </script>\n",
              "      <style>\n",
              "    .colab-df-container {\n",
              "      display:flex;\n",
              "      flex-wrap:wrap;\n",
              "      gap: 12px;\n",
              "    }\n",
              "\n",
              "    .colab-df-convert {\n",
              "      background-color: #E8F0FE;\n",
              "      border: none;\n",
              "      border-radius: 50%;\n",
              "      cursor: pointer;\n",
              "      display: none;\n",
              "      fill: #1967D2;\n",
              "      height: 32px;\n",
              "      padding: 0 0 0 0;\n",
              "      width: 32px;\n",
              "    }\n",
              "\n",
              "    .colab-df-convert:hover {\n",
              "      background-color: #E2EBFA;\n",
              "      box-shadow: 0px 1px 2px rgba(60, 64, 67, 0.3), 0px 1px 3px 1px rgba(60, 64, 67, 0.15);\n",
              "      fill: #174EA6;\n",
              "    }\n",
              "\n",
              "    [theme=dark] .colab-df-convert {\n",
              "      background-color: #3B4455;\n",
              "      fill: #D2E3FC;\n",
              "    }\n",
              "\n",
              "    [theme=dark] .colab-df-convert:hover {\n",
              "      background-color: #434B5C;\n",
              "      box-shadow: 0px 1px 3px 1px rgba(0, 0, 0, 0.15);\n",
              "      filter: drop-shadow(0px 1px 2px rgba(0, 0, 0, 0.3));\n",
              "      fill: #FFFFFF;\n",
              "    }\n",
              "  </style>\n",
              "\n",
              "      <script>\n",
              "        const buttonEl =\n",
              "          document.querySelector('#df-2151e38c-346e-4378-a75b-deb92c18c73b button.colab-df-convert');\n",
              "        buttonEl.style.display =\n",
              "          google.colab.kernel.accessAllowed ? 'block' : 'none';\n",
              "\n",
              "        async function convertToInteractive(key) {\n",
              "          const element = document.querySelector('#df-2151e38c-346e-4378-a75b-deb92c18c73b');\n",
              "          const dataTable =\n",
              "            await google.colab.kernel.invokeFunction('convertToInteractive',\n",
              "                                                     [key], {});\n",
              "          if (!dataTable) return;\n",
              "\n",
              "          const docLinkHtml = 'Like what you see? Visit the ' +\n",
              "            '<a target=\"_blank\" href=https://colab.research.google.com/notebooks/data_table.ipynb>data table notebook</a>'\n",
              "            + ' to learn more about interactive tables.';\n",
              "          element.innerHTML = '';\n",
              "          dataTable['output_type'] = 'display_data';\n",
              "          await google.colab.output.renderOutput(dataTable, element);\n",
              "          const docLink = document.createElement('div');\n",
              "          docLink.innerHTML = docLinkHtml;\n",
              "          element.appendChild(docLink);\n",
              "        }\n",
              "      </script>\n",
              "    </div>\n",
              "  </div>\n"
            ]
          },
          "metadata": {},
          "execution_count": 8
        }
      ]
    },
    {
      "cell_type": "code",
      "source": [
        "#end\n",
        "df.tail()\n"
      ],
      "metadata": {
        "colab": {
          "base_uri": "https://localhost:8080/",
          "height": 206
        },
        "id": "0Z4RQjClxnLG",
        "outputId": "125bc1e2-d2e1-4cb9-ff96-717c28d0238c"
      },
      "execution_count": 9,
      "outputs": [
        {
          "output_type": "execute_result",
          "data": {
            "text/plain": [
              "      Unnamed: 0 symbol                       date   close    high       low  \\\n",
              "1253        1253   AAPL  2020-05-18 00:00:00+00:00  314.96  316.50  310.3241   \n",
              "1254        1254   AAPL  2020-05-19 00:00:00+00:00  313.14  318.52  313.0100   \n",
              "1255        1255   AAPL  2020-05-20 00:00:00+00:00  319.23  319.52  316.2000   \n",
              "1256        1256   AAPL  2020-05-21 00:00:00+00:00  316.85  320.89  315.8700   \n",
              "1257        1257   AAPL  2020-05-22 00:00:00+00:00  318.89  319.23  315.3500   \n",
              "\n",
              "        open    volume  adjClose  adjHigh    adjLow  adjOpen  adjVolume  \\\n",
              "1253  313.17  33843125    314.96   316.50  310.3241   313.17   33843125   \n",
              "1254  315.03  25432385    313.14   318.52  313.0100   315.03   25432385   \n",
              "1255  316.68  27876215    319.23   319.52  316.2000   316.68   27876215   \n",
              "1256  318.66  25672211    316.85   320.89  315.8700   318.66   25672211   \n",
              "1257  315.77  20450754    318.89   319.23  315.3500   315.77   20450754   \n",
              "\n",
              "      divCash  splitFactor  \n",
              "1253      0.0          1.0  \n",
              "1254      0.0          1.0  \n",
              "1255      0.0          1.0  \n",
              "1256      0.0          1.0  \n",
              "1257      0.0          1.0  "
            ],
            "text/html": [
              "\n",
              "\n",
              "  <div id=\"df-1cbec20c-bfb3-46c5-b538-0c53be9f59f8\">\n",
              "    <div class=\"colab-df-container\">\n",
              "      <div>\n",
              "<style scoped>\n",
              "    .dataframe tbody tr th:only-of-type {\n",
              "        vertical-align: middle;\n",
              "    }\n",
              "\n",
              "    .dataframe tbody tr th {\n",
              "        vertical-align: top;\n",
              "    }\n",
              "\n",
              "    .dataframe thead th {\n",
              "        text-align: right;\n",
              "    }\n",
              "</style>\n",
              "<table border=\"1\" class=\"dataframe\">\n",
              "  <thead>\n",
              "    <tr style=\"text-align: right;\">\n",
              "      <th></th>\n",
              "      <th>Unnamed: 0</th>\n",
              "      <th>symbol</th>\n",
              "      <th>date</th>\n",
              "      <th>close</th>\n",
              "      <th>high</th>\n",
              "      <th>low</th>\n",
              "      <th>open</th>\n",
              "      <th>volume</th>\n",
              "      <th>adjClose</th>\n",
              "      <th>adjHigh</th>\n",
              "      <th>adjLow</th>\n",
              "      <th>adjOpen</th>\n",
              "      <th>adjVolume</th>\n",
              "      <th>divCash</th>\n",
              "      <th>splitFactor</th>\n",
              "    </tr>\n",
              "  </thead>\n",
              "  <tbody>\n",
              "    <tr>\n",
              "      <th>1253</th>\n",
              "      <td>1253</td>\n",
              "      <td>AAPL</td>\n",
              "      <td>2020-05-18 00:00:00+00:00</td>\n",
              "      <td>314.96</td>\n",
              "      <td>316.50</td>\n",
              "      <td>310.3241</td>\n",
              "      <td>313.17</td>\n",
              "      <td>33843125</td>\n",
              "      <td>314.96</td>\n",
              "      <td>316.50</td>\n",
              "      <td>310.3241</td>\n",
              "      <td>313.17</td>\n",
              "      <td>33843125</td>\n",
              "      <td>0.0</td>\n",
              "      <td>1.0</td>\n",
              "    </tr>\n",
              "    <tr>\n",
              "      <th>1254</th>\n",
              "      <td>1254</td>\n",
              "      <td>AAPL</td>\n",
              "      <td>2020-05-19 00:00:00+00:00</td>\n",
              "      <td>313.14</td>\n",
              "      <td>318.52</td>\n",
              "      <td>313.0100</td>\n",
              "      <td>315.03</td>\n",
              "      <td>25432385</td>\n",
              "      <td>313.14</td>\n",
              "      <td>318.52</td>\n",
              "      <td>313.0100</td>\n",
              "      <td>315.03</td>\n",
              "      <td>25432385</td>\n",
              "      <td>0.0</td>\n",
              "      <td>1.0</td>\n",
              "    </tr>\n",
              "    <tr>\n",
              "      <th>1255</th>\n",
              "      <td>1255</td>\n",
              "      <td>AAPL</td>\n",
              "      <td>2020-05-20 00:00:00+00:00</td>\n",
              "      <td>319.23</td>\n",
              "      <td>319.52</td>\n",
              "      <td>316.2000</td>\n",
              "      <td>316.68</td>\n",
              "      <td>27876215</td>\n",
              "      <td>319.23</td>\n",
              "      <td>319.52</td>\n",
              "      <td>316.2000</td>\n",
              "      <td>316.68</td>\n",
              "      <td>27876215</td>\n",
              "      <td>0.0</td>\n",
              "      <td>1.0</td>\n",
              "    </tr>\n",
              "    <tr>\n",
              "      <th>1256</th>\n",
              "      <td>1256</td>\n",
              "      <td>AAPL</td>\n",
              "      <td>2020-05-21 00:00:00+00:00</td>\n",
              "      <td>316.85</td>\n",
              "      <td>320.89</td>\n",
              "      <td>315.8700</td>\n",
              "      <td>318.66</td>\n",
              "      <td>25672211</td>\n",
              "      <td>316.85</td>\n",
              "      <td>320.89</td>\n",
              "      <td>315.8700</td>\n",
              "      <td>318.66</td>\n",
              "      <td>25672211</td>\n",
              "      <td>0.0</td>\n",
              "      <td>1.0</td>\n",
              "    </tr>\n",
              "    <tr>\n",
              "      <th>1257</th>\n",
              "      <td>1257</td>\n",
              "      <td>AAPL</td>\n",
              "      <td>2020-05-22 00:00:00+00:00</td>\n",
              "      <td>318.89</td>\n",
              "      <td>319.23</td>\n",
              "      <td>315.3500</td>\n",
              "      <td>315.77</td>\n",
              "      <td>20450754</td>\n",
              "      <td>318.89</td>\n",
              "      <td>319.23</td>\n",
              "      <td>315.3500</td>\n",
              "      <td>315.77</td>\n",
              "      <td>20450754</td>\n",
              "      <td>0.0</td>\n",
              "      <td>1.0</td>\n",
              "    </tr>\n",
              "  </tbody>\n",
              "</table>\n",
              "</div>\n",
              "      <button class=\"colab-df-convert\" onclick=\"convertToInteractive('df-1cbec20c-bfb3-46c5-b538-0c53be9f59f8')\"\n",
              "              title=\"Convert this dataframe to an interactive table.\"\n",
              "              style=\"display:none;\">\n",
              "\n",
              "  <svg xmlns=\"http://www.w3.org/2000/svg\" height=\"24px\"viewBox=\"0 0 24 24\"\n",
              "       width=\"24px\">\n",
              "    <path d=\"M0 0h24v24H0V0z\" fill=\"none\"/>\n",
              "    <path d=\"M18.56 5.44l.94 2.06.94-2.06 2.06-.94-2.06-.94-.94-2.06-.94 2.06-2.06.94zm-11 1L8.5 8.5l.94-2.06 2.06-.94-2.06-.94L8.5 2.5l-.94 2.06-2.06.94zm10 10l.94 2.06.94-2.06 2.06-.94-2.06-.94-.94-2.06-.94 2.06-2.06.94z\"/><path d=\"M17.41 7.96l-1.37-1.37c-.4-.4-.92-.59-1.43-.59-.52 0-1.04.2-1.43.59L10.3 9.45l-7.72 7.72c-.78.78-.78 2.05 0 2.83L4 21.41c.39.39.9.59 1.41.59.51 0 1.02-.2 1.41-.59l7.78-7.78 2.81-2.81c.8-.78.8-2.07 0-2.86zM5.41 20L4 18.59l7.72-7.72 1.47 1.35L5.41 20z\"/>\n",
              "  </svg>\n",
              "      </button>\n",
              "\n",
              "\n",
              "\n",
              "    <div id=\"df-4cd645b6-70ee-4421-8620-72eead6e0638\">\n",
              "      <button class=\"colab-df-quickchart\" onclick=\"quickchart('df-4cd645b6-70ee-4421-8620-72eead6e0638')\"\n",
              "              title=\"Suggest charts.\"\n",
              "              style=\"display:none;\">\n",
              "\n",
              "<svg xmlns=\"http://www.w3.org/2000/svg\" height=\"24px\"viewBox=\"0 0 24 24\"\n",
              "     width=\"24px\">\n",
              "    <g>\n",
              "        <path d=\"M19 3H5c-1.1 0-2 .9-2 2v14c0 1.1.9 2 2 2h14c1.1 0 2-.9 2-2V5c0-1.1-.9-2-2-2zM9 17H7v-7h2v7zm4 0h-2V7h2v10zm4 0h-2v-4h2v4z\"/>\n",
              "    </g>\n",
              "</svg>\n",
              "      </button>\n",
              "    </div>\n",
              "\n",
              "<style>\n",
              "  .colab-df-quickchart {\n",
              "    background-color: #E8F0FE;\n",
              "    border: none;\n",
              "    border-radius: 50%;\n",
              "    cursor: pointer;\n",
              "    display: none;\n",
              "    fill: #1967D2;\n",
              "    height: 32px;\n",
              "    padding: 0 0 0 0;\n",
              "    width: 32px;\n",
              "  }\n",
              "\n",
              "  .colab-df-quickchart:hover {\n",
              "    background-color: #E2EBFA;\n",
              "    box-shadow: 0px 1px 2px rgba(60, 64, 67, 0.3), 0px 1px 3px 1px rgba(60, 64, 67, 0.15);\n",
              "    fill: #174EA6;\n",
              "  }\n",
              "\n",
              "  [theme=dark] .colab-df-quickchart {\n",
              "    background-color: #3B4455;\n",
              "    fill: #D2E3FC;\n",
              "  }\n",
              "\n",
              "  [theme=dark] .colab-df-quickchart:hover {\n",
              "    background-color: #434B5C;\n",
              "    box-shadow: 0px 1px 3px 1px rgba(0, 0, 0, 0.15);\n",
              "    filter: drop-shadow(0px 1px 2px rgba(0, 0, 0, 0.3));\n",
              "    fill: #FFFFFF;\n",
              "  }\n",
              "</style>\n",
              "\n",
              "    <script>\n",
              "      async function quickchart(key) {\n",
              "        const containerElement = document.querySelector('#' + key);\n",
              "        const charts = await google.colab.kernel.invokeFunction(\n",
              "            'suggestCharts', [key], {});\n",
              "      }\n",
              "    </script>\n",
              "\n",
              "      <script>\n",
              "\n",
              "function displayQuickchartButton(domScope) {\n",
              "  let quickchartButtonEl =\n",
              "    domScope.querySelector('#df-4cd645b6-70ee-4421-8620-72eead6e0638 button.colab-df-quickchart');\n",
              "  quickchartButtonEl.style.display =\n",
              "    google.colab.kernel.accessAllowed ? 'block' : 'none';\n",
              "}\n",
              "\n",
              "        displayQuickchartButton(document);\n",
              "      </script>\n",
              "      <style>\n",
              "    .colab-df-container {\n",
              "      display:flex;\n",
              "      flex-wrap:wrap;\n",
              "      gap: 12px;\n",
              "    }\n",
              "\n",
              "    .colab-df-convert {\n",
              "      background-color: #E8F0FE;\n",
              "      border: none;\n",
              "      border-radius: 50%;\n",
              "      cursor: pointer;\n",
              "      display: none;\n",
              "      fill: #1967D2;\n",
              "      height: 32px;\n",
              "      padding: 0 0 0 0;\n",
              "      width: 32px;\n",
              "    }\n",
              "\n",
              "    .colab-df-convert:hover {\n",
              "      background-color: #E2EBFA;\n",
              "      box-shadow: 0px 1px 2px rgba(60, 64, 67, 0.3), 0px 1px 3px 1px rgba(60, 64, 67, 0.15);\n",
              "      fill: #174EA6;\n",
              "    }\n",
              "\n",
              "    [theme=dark] .colab-df-convert {\n",
              "      background-color: #3B4455;\n",
              "      fill: #D2E3FC;\n",
              "    }\n",
              "\n",
              "    [theme=dark] .colab-df-convert:hover {\n",
              "      background-color: #434B5C;\n",
              "      box-shadow: 0px 1px 3px 1px rgba(0, 0, 0, 0.15);\n",
              "      filter: drop-shadow(0px 1px 2px rgba(0, 0, 0, 0.3));\n",
              "      fill: #FFFFFF;\n",
              "    }\n",
              "  </style>\n",
              "\n",
              "      <script>\n",
              "        const buttonEl =\n",
              "          document.querySelector('#df-1cbec20c-bfb3-46c5-b538-0c53be9f59f8 button.colab-df-convert');\n",
              "        buttonEl.style.display =\n",
              "          google.colab.kernel.accessAllowed ? 'block' : 'none';\n",
              "\n",
              "        async function convertToInteractive(key) {\n",
              "          const element = document.querySelector('#df-1cbec20c-bfb3-46c5-b538-0c53be9f59f8');\n",
              "          const dataTable =\n",
              "            await google.colab.kernel.invokeFunction('convertToInteractive',\n",
              "                                                     [key], {});\n",
              "          if (!dataTable) return;\n",
              "\n",
              "          const docLinkHtml = 'Like what you see? Visit the ' +\n",
              "            '<a target=\"_blank\" href=https://colab.research.google.com/notebooks/data_table.ipynb>data table notebook</a>'\n",
              "            + ' to learn more about interactive tables.';\n",
              "          element.innerHTML = '';\n",
              "          dataTable['output_type'] = 'display_data';\n",
              "          await google.colab.output.renderOutput(dataTable, element);\n",
              "          const docLink = document.createElement('div');\n",
              "          docLink.innerHTML = docLinkHtml;\n",
              "          element.appendChild(docLink);\n",
              "        }\n",
              "      </script>\n",
              "    </div>\n",
              "  </div>\n"
            ]
          },
          "metadata": {},
          "execution_count": 9
        }
      ]
    },
    {
      "cell_type": "code",
      "source": [
        "df1=df.reset_index()['close']\n",
        "df1.shape"
      ],
      "metadata": {
        "colab": {
          "base_uri": "https://localhost:8080/"
        },
        "id": "fvuxWhMLxpTG",
        "outputId": "25dacb78-a1bf-4103-8a23-485a65adb33c"
      },
      "execution_count": 20,
      "outputs": [
        {
          "output_type": "execute_result",
          "data": {
            "text/plain": [
              "(1258,)"
            ]
          },
          "metadata": {},
          "execution_count": 20
        }
      ]
    },
    {
      "cell_type": "code",
      "source": [
        "df.shape"
      ],
      "metadata": {
        "colab": {
          "base_uri": "https://localhost:8080/"
        },
        "outputId": "a473e9fb-5a09-4149-ffc4-c6d3e58756f5",
        "id": "yYt5Rqhw_wE4"
      },
      "execution_count": 19,
      "outputs": [
        {
          "output_type": "execute_result",
          "data": {
            "text/plain": [
              "(1258, 15)"
            ]
          },
          "metadata": {},
          "execution_count": 19
        }
      ]
    },
    {
      "cell_type": "code",
      "source": [
        "#plot the existing data\n",
        "import matplotlib.pyplot as plt\n",
        "plt.plot(df1)"
      ],
      "metadata": {
        "colab": {
          "base_uri": "https://localhost:8080/",
          "height": 447
        },
        "id": "lWj-rAsLxwZ1",
        "outputId": "57c7f3bb-7bfa-4834-e6a8-dfb98aa73c7e"
      },
      "execution_count": 12,
      "outputs": [
        {
          "output_type": "execute_result",
          "data": {
            "text/plain": [
              "[<matplotlib.lines.Line2D at 0x7e9be2e80550>]"
            ]
          },
          "metadata": {},
          "execution_count": 12
        },
        {
          "output_type": "display_data",
          "data": {
            "text/plain": [
              "<Figure size 640x480 with 1 Axes>"
            ],
            "image/png": "[encoded data removed]"
          },
          "metadata": {}
        }
      ]
    },
    {
      "cell_type": "code",
      "source": [
        "import numpy as np\n",
        "df1\n"
      ],
      "metadata": {
        "colab": {
          "base_uri": "https://localhost:8080/"
        },
        "id": "YnfEhH_2x0EC",
        "outputId": "b97ce931-8568-4f94-9677-0b69933351b7"
      },
      "execution_count": 15,
      "outputs": [
        {
          "output_type": "execute_result",
          "data": {
            "text/plain": [
              "0       132.045\n",
              "1       131.780\n",
              "2       130.280\n",
              "3       130.535\n",
              "4       129.960\n",
              "         ...   \n",
              "1253    314.960\n",
              "1254    313.140\n",
              "1255    319.230\n",
              "1256    316.850\n",
              "1257    318.890\n",
              "Name: close, Length: 1258, dtype: float64"
            ]
          },
          "metadata": {},
          "execution_count": 15
        }
      ]
    },
    {
      "cell_type": "code",
      "source": [
        "#scale dataset between 0 to 1\n",
        "from sklearn.preprocessing import MinMaxScaler\n",
        "scaler=MinMaxScaler(feature_range=(0,1))\n",
        "df1=scaler.fit_transform(np.array(df1).reshape(-1,1))\n",
        "print(df1)"
      ],
      "metadata": {
        "colab": {
          "base_uri": "https://localhost:8080/"
        },
        "id": "zjhW8pq9yESd",
        "outputId": "0149ee6d-2ed7-4b15-f25b-18c35950db67"
      },
      "execution_count": 22,
      "outputs": [
        {
          "output_type": "stream",
          "name": "stdout",
          "text": [
            "[[0.17607447]\n",
            " [0.17495567]\n",
            " [0.16862282]\n",
            " ...\n",
            " [0.96635143]\n",
            " [0.9563033 ]\n",
            " [0.96491598]]\n"
          ]
        }
      ]
    },
    {
      "cell_type": "code",
      "source": [
        "#divide data set into training and testing\n",
        "training_size=int(len(df1)*0.65)\n",
        "test_size=len(df1)-training_size\n",
        "train_data,test_data=df1[0:training_size,:],df1[training_size:len(df1),:1]\n",
        "training_size,test_size"
      ],
      "metadata": {
        "colab": {
          "base_uri": "https://localhost:8080/"
        },
        "id": "gEjjR7tbEgOC",
        "outputId": "5e135638-6585-4061-c8da-f35fde9541ff"
      },
      "execution_count": 23,
      "outputs": [
        {
          "output_type": "execute_result",
          "data": {
            "text/plain": [
              "(817, 441)"
            ]
          },
          "metadata": {},
          "execution_count": 23
        }
      ]
    },
    {
      "cell_type": "code",
      "source": [
        "# convert an array of values into a dataset matrix\n",
        "import numpy\n",
        "def create_dataset(dataset, time_step=1):\n",
        "\tdataX, dataY = [], []\n",
        "\tfor i in range(len(dataset)-time_step-1):\n",
        "\t\ta = dataset[i:(i+time_step), 0]   ###i=0, 0,1,2,3-----99   100\n",
        "\t\tdataX.append(a)\n",
        "\t\tdataY.append(dataset[i + time_step, 0])\n",
        "\treturn numpy.array(dataX), numpy.array(dataY)"
      ],
      "metadata": {
        "id": "yj1-PfszEnC5"
      },
      "execution_count": 25,
      "outputs": []
    },
    {
      "cell_type": "code",
      "source": [
        "# reshape into X=t,t+1,t+2,t+3 and Y=t+4\n",
        "time_step = 100\n",
        "X_train, y_train = create_dataset(train_data, time_step)\n",
        "X_test, ytest = create_dataset(test_data, time_step)\n",
        "print(X_train.shape), print(y_train.shape)\n",
        "print(X_test.shape), print(ytest.shape)"
      ],
      "metadata": {
        "colab": {
          "base_uri": "https://localhost:8080/"
        },
        "id": "jQ_EoGohMACO",
        "outputId": "3ce292c8-66e9-49a3-c994-26729461898e"
      },
      "execution_count": 26,
      "outputs": [
        {
          "output_type": "stream",
          "name": "stdout",
          "text": [
            "(716, 100)\n",
            "(716,)\n",
            "(340, 100)\n",
            "(340,)\n"
          ]
        },
        {
          "output_type": "execute_result",
          "data": {
            "text/plain": [
              "(None, None)"
            ]
          },
          "metadata": {},
          "execution_count": 26
        }
      ]
    },
    {
      "cell_type": "code",
      "source": [
        "# Create the Stacked LSTM model\n",
        "from tensorflow.keras.models import Sequential\n",
        "from tensorflow.keras.layers import Dense\n",
        "from tensorflow.keras.layers import LSTM"
      ],
      "metadata": {
        "id": "gzT0KomjMvSx"
      },
      "execution_count": 27,
      "outputs": []
    },
    {
      "cell_type": "code",
      "source": [
        "model=Sequential()\n",
        "model.add(LSTM(50,return_sequences=True,input_shape=(100,1)))\n",
        "model.add(LSTM(50,return_sequences=True))\n",
        "model.add(LSTM(50))\n",
        "model.add(Dense(1))\n",
        "model.compile(loss='mean_squared_error',optimizer='adam')\n",
        "model.summary()"
      ],
      "metadata": {
        "id": "qCO-V3jyNPqO"
      },
      "execution_count": null,
      "outputs": []
    },
    {
      "cell_type": "code",
      "source": [
        "model.fit(X_train,y_train,validation_data=(X_test,ytest),epochs=100,batch_size=64,verbose=1)"
      ],
      "metadata": {
        "colab": {
          "base_uri": "https://localhost:8080/"
        },
        "id": "0gjhFHg0NljF",
        "outputId": "8a81b84f-4a00-46d6-8862-e0e63e9a3831"
      },
      "execution_count": 32,
      "outputs": [
        {
          "output_type": "stream",
          "name": "stdout",
          "text": [
            "Epoch 1/100\n",
            "12/12 [==============================] - 3s 221ms/step - loss: 1.4948e-04 - val_loss: 8.6059e-04\n",
            "Epoch 2/100\n",
            "12/12 [==============================] - 3s 223ms/step - loss: 1.5396e-04 - val_loss: 0.0011\n",
            "Epoch 3/100\n",
            "12/12 [==============================] - 4s 324ms/step - loss: 2.0802e-04 - val_loss: 0.0010\n",
            "Epoch 4/100\n",
            "12/12 [==============================] - 3s 217ms/step - loss: 2.1507e-04 - val_loss: 0.0014\n",
            "Epoch 5/100\n",
            "12/12 [==============================] - 3s 222ms/step - loss: 1.7166e-04 - val_loss: 0.0011\n",
            "Epoch 6/100\n",
            "12/12 [==============================] - 3s 220ms/step - loss: 1.4592e-04 - val_loss: 0.0012\n",
            "Epoch 7/100\n",
            "12/12 [==============================] - 3s 293ms/step - loss: 1.4774e-04 - val_loss: 7.5495e-04\n",
            "Epoch 8/100\n",
            "12/12 [==============================] - 3s 247ms/step - loss: 1.3425e-04 - val_loss: 7.5796e-04\n",
            "Epoch 9/100\n",
            "12/12 [==============================] - 3s 222ms/step - loss: 1.2854e-04 - val_loss: 9.0390e-04\n",
            "Epoch 10/100\n",
            "12/12 [==============================] - 3s 224ms/step - loss: 1.3006e-04 - val_loss: 7.1438e-04\n",
            "Epoch 11/100\n",
            "12/12 [==============================] - 3s 222ms/step - loss: 1.2913e-04 - val_loss: 8.8908e-04\n",
            "Epoch 12/100\n",
            "12/12 [==============================] - 4s 326ms/step - loss: 1.3291e-04 - val_loss: 7.8412e-04\n",
            "Epoch 13/100\n",
            "12/12 [==============================] - 4s 322ms/step - loss: 1.2690e-04 - val_loss: 7.0364e-04\n",
            "Epoch 14/100\n",
            "12/12 [==============================] - 3s 223ms/step - loss: 1.2562e-04 - val_loss: 8.8246e-04\n",
            "Epoch 15/100\n",
            "12/12 [==============================] - 3s 223ms/step - loss: 1.4565e-04 - val_loss: 0.0010\n",
            "Epoch 16/100\n",
            "12/12 [==============================] - 4s 326ms/step - loss: 1.6831e-04 - val_loss: 7.2146e-04\n",
            "Epoch 17/100\n",
            "12/12 [==============================] - 3s 252ms/step - loss: 1.5790e-04 - val_loss: 0.0011\n",
            "Epoch 18/100\n",
            "12/12 [==============================] - 3s 221ms/step - loss: 1.4692e-04 - val_loss: 7.6915e-04\n",
            "Epoch 19/100\n",
            "12/12 [==============================] - 3s 223ms/step - loss: 1.1824e-04 - val_loss: 7.1157e-04\n",
            "Epoch 20/100\n",
            "12/12 [==============================] - 4s 334ms/step - loss: 1.2191e-04 - val_loss: 7.3205e-04\n",
            "Epoch 21/100\n",
            "12/12 [==============================] - 3s 225ms/step - loss: 1.1744e-04 - val_loss: 6.7906e-04\n",
            "Epoch 22/100\n",
            "12/12 [==============================] - 3s 224ms/step - loss: 1.1989e-04 - val_loss: 0.0011\n",
            "Epoch 23/100\n",
            "12/12 [==============================] - 3s 224ms/step - loss: 1.2004e-04 - val_loss: 8.5930e-04\n",
            "Epoch 24/100\n",
            "12/12 [==============================] - 3s 262ms/step - loss: 1.3408e-04 - val_loss: 6.9797e-04\n",
            "Epoch 25/100\n",
            "12/12 [==============================] - 3s 282ms/step - loss: 1.1778e-04 - val_loss: 7.3977e-04\n",
            "Epoch 26/100\n",
            "12/12 [==============================] - 3s 224ms/step - loss: 1.5101e-04 - val_loss: 0.0012\n",
            "Epoch 27/100\n",
            "12/12 [==============================] - 3s 223ms/step - loss: 1.2995e-04 - val_loss: 6.6427e-04\n",
            "Epoch 28/100\n",
            "12/12 [==============================] - 3s 225ms/step - loss: 1.3176e-04 - val_loss: 7.5875e-04\n",
            "Epoch 29/100\n",
            "12/12 [==============================] - 4s 342ms/step - loss: 1.1902e-04 - val_loss: 7.1724e-04\n",
            "Epoch 30/100\n",
            "12/12 [==============================] - 3s 226ms/step - loss: 1.2686e-04 - val_loss: 6.7468e-04\n",
            "Epoch 31/100\n",
            "12/12 [==============================] - 3s 225ms/step - loss: 1.1021e-04 - val_loss: 6.8152e-04\n",
            "Epoch 32/100\n",
            "12/12 [==============================] - 3s 225ms/step - loss: 1.2097e-04 - val_loss: 7.7307e-04\n",
            "Epoch 33/100\n",
            "12/12 [==============================] - 3s 294ms/step - loss: 1.1391e-04 - val_loss: 7.2402e-04\n",
            "Epoch 34/100\n",
            "12/12 [==============================] - 3s 255ms/step - loss: 1.0978e-04 - val_loss: 6.6805e-04\n",
            "Epoch 35/100\n",
            "12/12 [==============================] - 3s 226ms/step - loss: 1.0902e-04 - val_loss: 6.4944e-04\n",
            "Epoch 36/100\n",
            "12/12 [==============================] - 3s 224ms/step - loss: 1.0977e-04 - val_loss: 8.3155e-04\n",
            "Epoch 37/100\n",
            "12/12 [==============================] - 3s 248ms/step - loss: 1.3832e-04 - val_loss: 8.0196e-04\n",
            "Epoch 38/100\n",
            "12/12 [==============================] - 4s 304ms/step - loss: 1.6163e-04 - val_loss: 7.1304e-04\n",
            "Epoch 39/100\n",
            "12/12 [==============================] - 3s 231ms/step - loss: 1.5313e-04 - val_loss: 0.0010\n",
            "Epoch 40/100\n",
            "12/12 [==============================] - 3s 224ms/step - loss: 1.1698e-04 - val_loss: 8.0006e-04\n",
            "Epoch 41/100\n",
            "12/12 [==============================] - 3s 246ms/step - loss: 1.0502e-04 - val_loss: 8.0743e-04\n",
            "Epoch 42/100\n",
            "12/12 [==============================] - 4s 338ms/step - loss: 1.0544e-04 - val_loss: 6.3519e-04\n",
            "Epoch 43/100\n",
            "12/12 [==============================] - 3s 227ms/step - loss: 1.1151e-04 - val_loss: 8.7335e-04\n",
            "Epoch 44/100\n",
            "12/12 [==============================] - 3s 228ms/step - loss: 1.0903e-04 - val_loss: 0.0011\n",
            "Epoch 45/100\n",
            "12/12 [==============================] - 3s 223ms/step - loss: 1.0909e-04 - val_loss: 7.0480e-04\n",
            "Epoch 46/100\n",
            "12/12 [==============================] - 3s 292ms/step - loss: 1.3639e-04 - val_loss: 7.5523e-04\n",
            "Epoch 47/100\n",
            "12/12 [==============================] - 3s 252ms/step - loss: 1.3862e-04 - val_loss: 7.7776e-04\n",
            "Epoch 48/100\n",
            "12/12 [==============================] - 3s 227ms/step - loss: 1.0939e-04 - val_loss: 6.7725e-04\n",
            "Epoch 49/100\n",
            "12/12 [==============================] - 3s 228ms/step - loss: 1.0625e-04 - val_loss: 7.0825e-04\n",
            "Epoch 50/100\n",
            "12/12 [==============================] - 3s 225ms/step - loss: 1.1457e-04 - val_loss: 6.4852e-04\n",
            "Epoch 51/100\n",
            "12/12 [==============================] - 4s 328ms/step - loss: 1.2079e-04 - val_loss: 6.7730e-04\n",
            "Epoch 52/100\n",
            "12/12 [==============================] - 3s 225ms/step - loss: 1.1557e-04 - val_loss: 8.9770e-04\n",
            "Epoch 53/100\n",
            "12/12 [==============================] - 3s 227ms/step - loss: 1.0018e-04 - val_loss: 6.7681e-04\n",
            "Epoch 54/100\n",
            "12/12 [==============================] - 3s 228ms/step - loss: 1.0008e-04 - val_loss: 7.8767e-04\n",
            "Epoch 55/100\n",
            "12/12 [==============================] - 4s 334ms/step - loss: 1.1172e-04 - val_loss: 6.6639e-04\n",
            "Epoch 56/100\n",
            "12/12 [==============================] - 3s 252ms/step - loss: 1.0085e-04 - val_loss: 8.7047e-04\n",
            "Epoch 57/100\n",
            "12/12 [==============================] - 3s 233ms/step - loss: 1.0900e-04 - val_loss: 7.3522e-04\n",
            "Epoch 58/100\n",
            "12/12 [==============================] - 3s 227ms/step - loss: 9.7620e-05 - val_loss: 8.1914e-04\n",
            "Epoch 59/100\n",
            "12/12 [==============================] - 3s 293ms/step - loss: 1.0010e-04 - val_loss: 0.0010\n",
            "Epoch 60/100\n",
            "12/12 [==============================] - 3s 253ms/step - loss: 9.7920e-05 - val_loss: 6.7440e-04\n",
            "Epoch 61/100\n",
            "12/12 [==============================] - 3s 225ms/step - loss: 1.0675e-04 - val_loss: 7.0852e-04\n",
            "Epoch 62/100\n",
            "12/12 [==============================] - 3s 225ms/step - loss: 1.1707e-04 - val_loss: 7.0855e-04\n",
            "Epoch 63/100\n",
            "12/12 [==============================] - 3s 247ms/step - loss: 1.0065e-04 - val_loss: 7.9353e-04\n",
            "Epoch 64/100\n",
            "12/12 [==============================] - 4s 334ms/step - loss: 9.2806e-05 - val_loss: 7.0198e-04\n",
            "Epoch 65/100\n",
            "12/12 [==============================] - 3s 228ms/step - loss: 9.6628e-05 - val_loss: 8.6682e-04\n",
            "Epoch 66/100\n",
            "12/12 [==============================] - 3s 223ms/step - loss: 1.0877e-04 - val_loss: 7.3483e-04\n",
            "Epoch 67/100\n",
            "12/12 [==============================] - 3s 223ms/step - loss: 1.2200e-04 - val_loss: 7.1679e-04\n",
            "Epoch 68/100\n",
            "12/12 [==============================] - 4s 338ms/step - loss: 1.1598e-04 - val_loss: 8.1618e-04\n",
            "Epoch 69/100\n",
            "12/12 [==============================] - 3s 227ms/step - loss: 1.0262e-04 - val_loss: 8.8092e-04\n",
            "Epoch 70/100\n",
            "12/12 [==============================] - 4s 332ms/step - loss: 1.1046e-04 - val_loss: 8.5580e-04\n",
            "Epoch 71/100\n",
            "12/12 [==============================] - 3s 221ms/step - loss: 9.3103e-05 - val_loss: 7.4314e-04\n",
            "Epoch 72/100\n",
            "12/12 [==============================] - 4s 338ms/step - loss: 9.2084e-05 - val_loss: 0.0010\n",
            "Epoch 73/100\n",
            "12/12 [==============================] - 3s 226ms/step - loss: 1.1182e-04 - val_loss: 0.0011\n",
            "Epoch 74/100\n",
            "12/12 [==============================] - 3s 225ms/step - loss: 1.0488e-04 - val_loss: 8.8078e-04\n",
            "Epoch 75/100\n",
            "12/12 [==============================] - 3s 224ms/step - loss: 9.2850e-05 - val_loss: 9.2297e-04\n",
            "Epoch 76/100\n",
            "12/12 [==============================] - 3s 275ms/step - loss: 1.0552e-04 - val_loss: 7.6340e-04\n",
            "Epoch 77/100\n",
            "12/12 [==============================] - 3s 270ms/step - loss: 9.5838e-05 - val_loss: 8.0026e-04\n",
            "Epoch 78/100\n",
            "12/12 [==============================] - 3s 223ms/step - loss: 9.3359e-05 - val_loss: 7.4675e-04\n",
            "Epoch 79/100\n",
            "12/12 [==============================] - 3s 223ms/step - loss: 8.9493e-05 - val_loss: 8.2472e-04\n",
            "Epoch 80/100\n",
            "12/12 [==============================] - 3s 249ms/step - loss: 1.1122e-04 - val_loss: 8.4826e-04\n",
            "Epoch 81/100\n",
            "12/12 [==============================] - 4s 324ms/step - loss: 1.2386e-04 - val_loss: 7.9338e-04\n",
            "Epoch 82/100\n",
            "12/12 [==============================] - 3s 226ms/step - loss: 9.5974e-05 - val_loss: 9.2080e-04\n",
            "Epoch 83/100\n",
            "12/12 [==============================] - 3s 225ms/step - loss: 1.0072e-04 - val_loss: 0.0011\n",
            "Epoch 84/100\n",
            "12/12 [==============================] - 3s 225ms/step - loss: 1.0422e-04 - val_loss: 7.4869e-04\n",
            "Epoch 85/100\n",
            "12/12 [==============================] - 4s 318ms/step - loss: 8.8044e-05 - val_loss: 8.7616e-04\n",
            "Epoch 86/100\n",
            "12/12 [==============================] - 3s 224ms/step - loss: 8.9051e-05 - val_loss: 8.6101e-04\n",
            "Epoch 87/100\n",
            "12/12 [==============================] - 3s 225ms/step - loss: 9.9242e-05 - val_loss: 7.6264e-04\n",
            "Epoch 88/100\n",
            "12/12 [==============================] - 3s 227ms/step - loss: 8.4907e-05 - val_loss: 8.4602e-04\n",
            "Epoch 89/100\n",
            "12/12 [==============================] - 3s 258ms/step - loss: 9.2205e-05 - val_loss: 7.9620e-04\n",
            "Epoch 90/100\n",
            "12/12 [==============================] - 4s 294ms/step - loss: 9.0819e-05 - val_loss: 7.7918e-04\n",
            "Epoch 91/100\n",
            "12/12 [==============================] - 3s 229ms/step - loss: 1.3317e-04 - val_loss: 8.5783e-04\n",
            "Epoch 92/100\n",
            "12/12 [==============================] - 3s 227ms/step - loss: 1.0203e-04 - val_loss: 0.0012\n",
            "Epoch 93/100\n",
            "12/12 [==============================] - 3s 228ms/step - loss: 1.1121e-04 - val_loss: 8.9847e-04\n",
            "Epoch 94/100\n",
            "12/12 [==============================] - 4s 335ms/step - loss: 9.9146e-05 - val_loss: 8.9296e-04\n",
            "Epoch 95/100\n",
            "12/12 [==============================] - 3s 224ms/step - loss: 9.4474e-05 - val_loss: 8.5620e-04\n",
            "Epoch 96/100\n",
            "12/12 [==============================] - 3s 222ms/step - loss: 8.7558e-05 - val_loss: 0.0011\n",
            "Epoch 97/100\n",
            "12/12 [==============================] - 3s 221ms/step - loss: 9.4698e-05 - val_loss: 9.9826e-04\n",
            "Epoch 98/100\n",
            "12/12 [==============================] - 3s 281ms/step - loss: 9.9006e-05 - val_loss: 8.0678e-04\n",
            "Epoch 99/100\n",
            "12/12 [==============================] - 3s 258ms/step - loss: 8.4360e-05 - val_loss: 8.3694e-04\n",
            "Epoch 100/100\n",
            "12/12 [==============================] - 3s 223ms/step - loss: 8.5189e-05 - val_loss: 8.5553e-04\n"
          ]
        },
        {
          "output_type": "execute_result",
          "data": {
            "text/plain": [
              "<keras.callbacks.History at 0x7e9b7278e530>"
            ]
          },
          "metadata": {},
          "execution_count": 32
        }
      ]
    },
    {
      "cell_type": "code",
      "source": [
        "import tensorflow as tf\n",
        "# prediction and check performance metrics\n",
        "train_predict=model.predict(X_train)\n",
        "test_predict=model.predict(X_test)"
      ],
      "metadata": {
        "colab": {
          "base_uri": "https://localhost:8080/"
        },
        "id": "WIxpWCXKN9c9",
        "outputId": "f904a784-3734-4a1a-b4ee-bc35dd4898aa"
      },
      "execution_count": 33,
      "outputs": [
        {
          "output_type": "stream",
          "name": "stdout",
          "text": [
            "23/23 [==============================] - 30s 59ms/step\n",
            "11/11 [==============================] - 0s 41ms/step\n"
          ]
        }
      ]
    },
    {
      "cell_type": "code",
      "source": [
        "#Transformback to original form\n",
        "train_predict=scaler.inverse_transform(train_predict)\n",
        "test_predict=scaler.inverse_transform(test_predict)"
      ],
      "metadata": {
        "id": "_wpTQNveRzi8"
      },
      "execution_count": 34,
      "outputs": []
    },
    {
      "cell_type": "code",
      "source": [
        "# Calculate RMSE performance metrics\n",
        "import math\n",
        "from sklearn.metrics import mean_squared_error\n",
        "math.sqrt(mean_squared_error(y_train,train_predict))"
      ],
      "metadata": {
        "colab": {
          "base_uri": "https://localhost:8080/"
        },
        "id": "Rw3huFjhSOlT",
        "outputId": "66cd6817-876e-430d-c38e-123bbc646fb7"
      },
      "execution_count": 35,
      "outputs": [
        {
          "output_type": "execute_result",
          "data": {
            "text/plain": [
              "141.7191150410724"
            ]
          },
          "metadata": {},
          "execution_count": 35
        }
      ]
    },
    {
      "cell_type": "code",
      "source": [
        "# Test Data RMSE\n",
        "math.sqrt(mean_squared_error(ytest,test_predict))\n",
        "235.7193088627771"
      ],
      "metadata": {
        "colab": {
          "base_uri": "https://localhost:8080/"
        },
        "id": "EU8fidCbSzTc",
        "outputId": "6b5efbf2-e291-4cd3-9275-a522a17f79b6"
      },
      "execution_count": 39,
      "outputs": [
        {
          "output_type": "execute_result",
          "data": {
            "text/plain": [
              "235.7193088627771"
            ]
          },
          "metadata": {},
          "execution_count": 39
        }
      ]
    },
    {
      "cell_type": "code",
      "source": [
        "# Plotting\n",
        "# shift train predictions for plotting\n",
        "look_back=100\n",
        "trainPredictPlot = numpy.empty_like(df1)\n",
        "trainPredictPlot[:, :] = np.nan\n",
        "trainPredictPlot[look_back:len(train_predict)+look_back, :] = train_predict\n"
      ],
      "metadata": {
        "id": "xh6d-cvRSTiT"
      },
      "execution_count": 36,
      "outputs": []
    },
    {
      "cell_type": "code",
      "source": [
        "# shift test predictions for plotting\n",
        "testPredictPlot = numpy.empty_like(df1)\n",
        "testPredictPlot[:, :] = numpy.nan\n",
        "testPredictPlot[len(train_predict)+(look_back*2)+1:len(df1)-1, :] = test_predict\n"
      ],
      "metadata": {
        "id": "r24ioBYISbQO"
      },
      "execution_count": 37,
      "outputs": []
    },
    {
      "cell_type": "code",
      "source": [
        "# plot baseline and predictions\n",
        "plt.plot(scaler.inverse_transform(df1))\n",
        "plt.plot(trainPredictPlot)\n",
        "plt.plot(testPredictPlot)\n",
        "plt.show()"
      ],
      "metadata": {
        "colab": {
          "base_uri": "https://localhost:8080/",
          "height": 430
        },
        "id": "rJ_dQkbnSd2Q",
        "outputId": "54618072-723b-4e55-d28b-c24725842269"
      },
      "execution_count": 38,
      "outputs": [
        {
          "output_type": "display_data",
          "data": {
            "text/plain": [
              "<Figure size 640x480 with 1 Axes>"
            ],
            "image/png": "[encoded data removed]"
          },
          "metadata": {}
        }
      ]
    },
    {
      "cell_type": "code",
      "source": [],
      "metadata": {
        "id": "ED373eGSSejT"
      },
      "execution_count": null,
      "outputs": []
    }
  ]
}